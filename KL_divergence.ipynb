{
  "nbformat": 4,
  "nbformat_minor": 0,
  "metadata": {
    "colab": {
      "provenance": [],
      "authorship_tag": "ABX9TyN5unCNvAnuu+lc/ZGWCFLH",
      "include_colab_link": true
    },
    "kernelspec": {
      "name": "python3",
      "display_name": "Python 3"
    },
    "language_info": {
      "name": "python"
    }
  },
  "cells": [
    {
      "cell_type": "markdown",
      "metadata": {
        "id": "view-in-github",
        "colab_type": "text"
      },
      "source": [
        "<a href=\"https://colab.research.google.com/github/inderpreetsingh01/ml_machine_coding/blob/main/KL_divergence.ipynb\" target=\"_parent\"><img src=\"https://colab.research.google.com/assets/colab-badge.svg\" alt=\"Open In Colab\"/></a>"
      ]
    },
    {
      "cell_type": "code",
      "execution_count": null,
      "metadata": {
        "id": "_uj6JoswpXL2"
      },
      "outputs": [],
      "source": [
        "import numpy as np\n",
        "\n",
        "def kl_divergence(P, Q, eps=1e-10):\n",
        "    \"\"\"\n",
        "    P, Q: probability distributions (arrays), must sum to 1\n",
        "    eps: small value to avoid log(0)\n",
        "    \"\"\"\n",
        "    P = np.array(P, dtype=np.float64)\n",
        "    Q = np.array(Q, dtype=np.float64)\n",
        "\n",
        "    # Normalize to ensure they sum to 1\n",
        "    P = P / (np.sum(P) + eps)\n",
        "    Q = Q / (np.sum(Q) + eps)\n",
        "\n",
        "    return np.sum(P * np.log((P + eps) / (Q + eps)))"
      ]
    },
    {
      "cell_type": "code",
      "source": [
        "P = np.array([0.1, 0.4, 0.5])\n",
        "Q = np.array([0.2, 0.3, 0.5])\n",
        "\n",
        "kl = kl_divergence(P, Q)\n",
        "print(\"KL Divergence:\", kl)\n"
      ],
      "metadata": {
        "id": "QNBs_vYBpafx"
      },
      "execution_count": null,
      "outputs": []
    },
    {
      "cell_type": "code",
      "source": [],
      "metadata": {
        "id": "wIgeEeLPpcga"
      },
      "execution_count": null,
      "outputs": []
    }
  ]
}