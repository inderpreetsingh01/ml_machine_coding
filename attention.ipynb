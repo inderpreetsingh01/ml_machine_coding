{
  "nbformat": 4,
  "nbformat_minor": 0,
  "metadata": {
    "colab": {
      "provenance": [],
      "authorship_tag": "ABX9TyMMheKMz0jObRJNgCMoH9JH",
      "include_colab_link": true
    },
    "kernelspec": {
      "name": "python3",
      "display_name": "Python 3"
    },
    "language_info": {
      "name": "python"
    }
  },
  "cells": [
    {
      "cell_type": "markdown",
      "metadata": {
        "id": "view-in-github",
        "colab_type": "text"
      },
      "source": [
        "<a href=\"https://colab.research.google.com/github/inderpreetsingh01/ml_machine_coding/blob/main/attention.ipynb\" target=\"_parent\"><img src=\"https://colab.research.google.com/assets/colab-badge.svg\" alt=\"Open In Colab\"/></a>"
      ]
    },
    {
      "cell_type": "code",
      "execution_count": null,
      "metadata": {
        "id": "BXbqroZdmo-U"
      },
      "outputs": [],
      "source": [
        "# attention"
      ]
    },
    {
      "cell_type": "code",
      "source": [
        "import numpy as np\n",
        "\n",
        "def softmax(x, axis=-1):\n",
        "    x = x - np.max(x, axis=axis, keepdims=True)  # stability\n",
        "    exp_x = np.exp(x)\n",
        "    return exp_x / np.sum(exp_x, axis=axis, keepdims=True)\n",
        "\n",
        "def scaled_dot_product_attention(Q, K, V, mask=None):\n",
        "    \"\"\"\n",
        "    Compute scaled dot-product attention\n",
        "    Q, K, V: shape (batch, seq_len, d_k)\n",
        "    mask: shape (batch, seq_len, seq_len), optional\n",
        "    \"\"\"\n",
        "    d_k = Q.shape[-1]\n",
        "\n",
        "    # (batch, seq_len, seq_len)\n",
        "    scores = np.matmul(Q, K.transpose(0, 2, 1)) / np.sqrt(d_k)\n",
        "\n",
        "    if mask is not None:\n",
        "        scores = np.where(mask == 0, -1e9, scores)  # mask out\n",
        "\n",
        "    # attention weights\n",
        "    attn_weights = softmax(scores, axis=-1)\n",
        "\n",
        "    # weighted sum of values\n",
        "    output = np.matmul(attn_weights, V)\n",
        "\n",
        "    return output, attn_weights"
      ],
      "metadata": {
        "id": "fHjbO7Ljm1Rb"
      },
      "execution_count": 1,
      "outputs": []
    },
    {
      "cell_type": "code",
      "source": [
        "# Example: batch=1, seq_len=3, d_k=4\n",
        "np.random.seed(42)\n",
        "Q = np.random.rand(1, 3, 4)\n",
        "K = np.random.rand(1, 3, 4)\n",
        "V = np.random.rand(1, 3, 4)\n",
        "\n",
        "output, attn_weights = scaled_dot_product_attention(Q, K, V)\n",
        "\n",
        "print(\"Attention output:\\n\", output)\n",
        "print(\"\\nAttention weights:\\n\", attn_weights)"
      ],
      "metadata": {
        "colab": {
          "base_uri": "https://localhost:8080/"
        },
        "id": "itjnxDi5m1Pl",
        "outputId": "5b84b1e2-6277-42df-e63f-b8da97f550bd"
      },
      "execution_count": 2,
      "outputs": [
        {
          "output_type": "stream",
          "name": "stdout",
          "text": [
            "Attention output:\n",
            " [[[0.38238456 0.56336845 0.59419359 0.48028741]\n",
            "  [0.36781777 0.59386381 0.59857094 0.49987658]\n",
            "  [0.37190176 0.5920136  0.59070988 0.49675455]]]\n",
            "\n",
            "Attention weights:\n",
            " [[[0.31164829 0.37066075 0.31769096]\n",
            "  [0.32266579 0.33486977 0.34246444]\n",
            "  [0.33283257 0.33507568 0.33209175]]]\n"
          ]
        }
      ]
    },
    {
      "cell_type": "code",
      "source": [],
      "metadata": {
        "id": "tTcX1k6Em1Nc"
      },
      "execution_count": null,
      "outputs": []
    },
    {
      "cell_type": "code",
      "source": [
        "# multihead attention"
      ],
      "metadata": {
        "id": "1QIAmMzjm1Lc"
      },
      "execution_count": null,
      "outputs": []
    },
    {
      "cell_type": "code",
      "source": [
        "import numpy as np\n",
        "\n",
        "def softmax(x, axis=-1):\n",
        "    x = x - np.max(x, axis=axis, keepdims=True)\n",
        "    exp_x = np.exp(x)\n",
        "    return exp_x / np.sum(exp_x, axis=axis, keepdims=True)\n",
        "\n",
        "def scaled_dot_product_attention(Q, K, V, mask=None):\n",
        "    d_k = Q.shape[-1]\n",
        "    scores = np.matmul(Q, K.transpose(0, 2, 1)) / np.sqrt(d_k)\n",
        "    if mask is not None:\n",
        "        scores = np.where(mask == 0, -1e9, scores)\n",
        "    attn_weights = softmax(scores, axis=-1)\n",
        "    output = np.matmul(attn_weights, V)\n",
        "    return output, attn_weights\n",
        "\n",
        "class MultiHeadAttention:\n",
        "    def __init__(self, d_model, num_heads):\n",
        "        assert d_model % num_heads == 0, \"d_model must be divisible by num_heads\"\n",
        "        self.d_model = d_model\n",
        "        self.num_heads = num_heads\n",
        "        self.d_k = d_model // num_heads\n",
        "\n",
        "        # Initialize weights\n",
        "        self.W_q = np.random.randn(d_model, d_model) / np.sqrt(d_model)\n",
        "        self.W_k = np.random.randn(d_model, d_model) / np.sqrt(d_model)\n",
        "        self.W_v = np.random.randn(d_model, d_model) / np.sqrt(d_model)\n",
        "        self.W_o = np.random.randn(d_model, d_model) / np.sqrt(d_model)\n",
        "\n",
        "    def split_heads(self, X):\n",
        "        \"\"\"\n",
        "        Split the last dimension into (num_heads, d_k) and transpose to (batch, heads, seq_len, d_k)\n",
        "        \"\"\"\n",
        "        batch_size, seq_len, d_model = X.shape\n",
        "        X = X.reshape(batch_size, seq_len, self.num_heads, self.d_k)\n",
        "        return X.transpose(0, 2, 1, 3)\n",
        "\n",
        "    def combine_heads(self, X):\n",
        "        \"\"\"\n",
        "        Combine heads: (batch, heads, seq_len, d_k) -> (batch, seq_len, d_model)\n",
        "        \"\"\"\n",
        "        batch_size, num_heads, seq_len, d_k = X.shape\n",
        "        X = X.transpose(0, 2, 1, 3).reshape(batch_size, seq_len, num_heads * d_k)\n",
        "        return X\n",
        "\n",
        "    def forward(self, X, mask=None):\n",
        "        batch_size, seq_len, _ = X.shape\n",
        "\n",
        "        Q = X @ self.W_q\n",
        "        K = X @ self.W_k\n",
        "        V = X @ self.W_v\n",
        "\n",
        "        # Split heads\n",
        "        Q = self.split_heads(Q)  # (batch, heads, seq_len, d_k)\n",
        "        K = self.split_heads(K)\n",
        "        V = self.split_heads(V)\n",
        "\n",
        "        # Apply attention on each head\n",
        "        heads_output = []\n",
        "        self.attn_weights = []\n",
        "        for i in range(self.num_heads):\n",
        "            out, attn_w = scaled_dot_product_attention(Q[:, i], K[:, i], V[:, i], mask)\n",
        "            heads_output.append(out)\n",
        "            self.attn_weights.append(attn_w)\n",
        "\n",
        "        # Stack heads (batch, heads, seq_len, d_k)\n",
        "        heads_output = np.stack(heads_output, axis=1)\n",
        "\n",
        "        # Combine heads\n",
        "        concat = self.combine_heads(heads_output)\n",
        "\n",
        "        # Final linear projection\n",
        "        output = concat @ self.W_o\n",
        "        return output"
      ],
      "metadata": {
        "id": "wXaj7mXXnN6r"
      },
      "execution_count": 3,
      "outputs": []
    },
    {
      "cell_type": "code",
      "source": [
        "np.random.seed(42)\n",
        "batch_size = 2\n",
        "seq_len = 4\n",
        "d_model = 8\n",
        "num_heads = 2\n",
        "\n",
        "X = np.random.rand(batch_size, seq_len, d_model)\n",
        "\n",
        "mha = MultiHeadAttention(d_model=d_model, num_heads=num_heads)\n",
        "output = mha.forward(X)\n",
        "\n",
        "print(\"Input shape:\", X.shape)\n",
        "print(\"Output shape:\", output.shape)"
      ],
      "metadata": {
        "colab": {
          "base_uri": "https://localhost:8080/"
        },
        "id": "i_wgq6e1nN5h",
        "outputId": "18afec22-edcc-4a5f-c708-7ed21cca02f4"
      },
      "execution_count": 4,
      "outputs": [
        {
          "output_type": "stream",
          "name": "stdout",
          "text": [
            "Input shape: (2, 4, 8)\n",
            "Output shape: (2, 4, 8)\n"
          ]
        }
      ]
    },
    {
      "cell_type": "code",
      "source": [],
      "metadata": {
        "id": "ClEeEsbxnN2k"
      },
      "execution_count": null,
      "outputs": []
    }
  ]
}