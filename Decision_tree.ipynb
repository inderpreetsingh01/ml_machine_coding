{
  "nbformat": 4,
  "nbformat_minor": 0,
  "metadata": {
    "colab": {
      "provenance": [],
      "authorship_tag": "ABX9TyNaxVB1TdnLijNVOVrdJWoA",
      "include_colab_link": true
    },
    "kernelspec": {
      "name": "python3",
      "display_name": "Python 3"
    },
    "language_info": {
      "name": "python"
    }
  },
  "cells": [
    {
      "cell_type": "markdown",
      "metadata": {
        "id": "view-in-github",
        "colab_type": "text"
      },
      "source": [
        "<a href=\"https://colab.research.google.com/github/inderpreetsingh01/ml_machine_coding/blob/main/Decision_tree.ipynb\" target=\"_parent\"><img src=\"https://colab.research.google.com/assets/colab-badge.svg\" alt=\"Open In Colab\"/></a>"
      ]
    },
    {
      "cell_type": "code",
      "execution_count": 1,
      "metadata": {
        "id": "znq16gshSPOn"
      },
      "outputs": [],
      "source": [
        "import numpy as np\n",
        "\n",
        "class Node:\n",
        "    def __init__(self, feature=None, threshold=None, left=None, right=None, *, value=None):\n",
        "        self.feature = feature        # index of feature to split on\n",
        "        self.threshold = threshold    # threshold value\n",
        "        self.left = left              # left child node\n",
        "        self.right = right            # right child node\n",
        "        self.value = value            # class label if it's a leaf\n",
        "\n",
        "    def is_leaf(self):\n",
        "        return self.value is not None\n",
        "\n",
        "class DecisionTreeClassifier:\n",
        "    def __init__(self, max_depth=10, min_samples_split=2):\n",
        "        self.max_depth = max_depth\n",
        "        self.min_samples_split = min_samples_split\n",
        "        self.root = None\n",
        "\n",
        "    def fit(self, X, y):\n",
        "        self.n_classes_ = len(np.unique(y))\n",
        "        self.root = self._build_tree(X, y)\n",
        "\n",
        "    def _build_tree(self, X, y, depth=0):\n",
        "        n_samples, n_features = X.shape\n",
        "        num_labels = len(np.unique(y))\n",
        "\n",
        "        # Stop conditions\n",
        "        if (depth >= self.max_depth or num_labels == 1 or n_samples < self.min_samples_split):\n",
        "            leaf_value = self._most_common_label(y)\n",
        "            return Node(value=leaf_value)\n",
        "\n",
        "        best_feature, best_thresh = self._best_split(X, y, n_features)\n",
        "        if best_feature is None:\n",
        "            return Node(value=self._most_common_label(y))\n",
        "\n",
        "        # Split\n",
        "        left_idx = X[:, best_feature] < best_thresh\n",
        "        right_idx = ~left_idx\n",
        "        left = self._build_tree(X[left_idx], y[left_idx], depth + 1)\n",
        "        right = self._build_tree(X[right_idx], y[right_idx], depth + 1)\n",
        "        return Node(feature=best_feature, threshold=best_thresh, left=left, right=right)\n",
        "\n",
        "    def _best_split(self, X, y, n_features):\n",
        "        best_gain = -1\n",
        "        split_idx, split_thresh = None, None\n",
        "\n",
        "        for feature in range(n_features):\n",
        "            thresholds = np.unique(X[:, feature])\n",
        "            for thresh in thresholds:\n",
        "                left_idx = X[:, feature] < thresh\n",
        "                right_idx = ~left_idx\n",
        "                if len(y[left_idx]) == 0 or len(y[right_idx]) == 0:\n",
        "                    continue\n",
        "\n",
        "                gain = self._information_gain(y, y[left_idx], y[right_idx])\n",
        "                if gain > best_gain:\n",
        "                    best_gain = gain\n",
        "                    split_idx = feature\n",
        "                    split_thresh = thresh\n",
        "        return split_idx, split_thresh\n",
        "\n",
        "    def _gini(self, y):\n",
        "        counts = np.bincount(y)\n",
        "        probs = counts / len(y)\n",
        "        return 1 - np.sum(probs ** 2)\n",
        "\n",
        "    def _information_gain(self, parent, left, right):\n",
        "        weight_l = len(left) / len(parent)\n",
        "        weight_r = len(right) / len(parent)\n",
        "        return self._gini(parent) - (weight_l * self._gini(left) + weight_r * self._gini(right))\n",
        "\n",
        "    def _most_common_label(self, y):\n",
        "        counts = np.bincount(y)\n",
        "        return np.argmax(counts)\n",
        "\n",
        "    def predict(self, X):\n",
        "        return np.array([self._traverse_tree(x, self.root) for x in X])\n",
        "\n",
        "    def _traverse_tree(self, x, node):\n",
        "        if node.is_leaf():\n",
        "            return node.value\n",
        "        if x[node.feature] < node.threshold:\n",
        "            return self._traverse_tree(x, node.left)\n",
        "        else:\n",
        "            return self._traverse_tree(x, node.right)\n",
        "\n",
        "    def score(self, X, y):\n",
        "        return np.mean(self.predict(X) == y)"
      ]
    },
    {
      "cell_type": "code",
      "source": [
        "# Simulated 3-class data\n",
        "np.random.seed(42)\n",
        "X = np.random.randn(150, 2)\n",
        "y = np.repeat([0, 1, 2], 50)\n",
        "X[y == 1] += 2\n",
        "X[y == 2] -= 2\n",
        "\n",
        "tree = DecisionTreeClassifier(max_depth=5)\n",
        "tree.fit(X, y)\n",
        "\n",
        "preds = tree.predict(X)\n",
        "acc = tree.score(X, y)\n",
        "print(\"Accuracy:\", acc)"
      ],
      "metadata": {
        "colab": {
          "base_uri": "https://localhost:8080/"
        },
        "id": "QKyAHO-gUaPm",
        "outputId": "89fe5b26-a877-451a-b36a-fb6daaccdb6a"
      },
      "execution_count": 2,
      "outputs": [
        {
          "output_type": "stream",
          "name": "stdout",
          "text": [
            "Accuracy: 0.96\n"
          ]
        }
      ]
    },
    {
      "cell_type": "code",
      "source": [],
      "metadata": {
        "id": "NePCA6UDUa3d"
      },
      "execution_count": null,
      "outputs": []
    }
  ]
}