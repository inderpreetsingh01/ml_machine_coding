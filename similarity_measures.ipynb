{
  "nbformat": 4,
  "nbformat_minor": 0,
  "metadata": {
    "colab": {
      "provenance": [],
      "authorship_tag": "ABX9TyOm4HLZ4pozzVb/qvA9xOld",
      "include_colab_link": true
    },
    "kernelspec": {
      "name": "python3",
      "display_name": "Python 3"
    },
    "language_info": {
      "name": "python"
    }
  },
  "cells": [
    {
      "cell_type": "markdown",
      "metadata": {
        "id": "view-in-github",
        "colab_type": "text"
      },
      "source": [
        "<a href=\"https://colab.research.google.com/github/inderpreetsingh01/ml_machine_coding/blob/main/similarity_measures.ipynb\" target=\"_parent\"><img src=\"https://colab.research.google.com/assets/colab-badge.svg\" alt=\"Open In Colab\"/></a>"
      ]
    },
    {
      "cell_type": "code",
      "execution_count": null,
      "metadata": {
        "id": "AOVhMj2nWcmk"
      },
      "outputs": [],
      "source": [
        "#  cosine similarity"
      ]
    },
    {
      "cell_type": "code",
      "source": [
        "import numpy as np\n",
        "\n",
        "def cosine_similarity(vec1, vec2):\n",
        "    \"\"\"Compute cosine similarity between two 1D vectors\"\"\"\n",
        "    dot = np.dot(vec1, vec2)\n",
        "    norm1 = np.linalg.norm(vec1)\n",
        "    norm2 = np.linalg.norm(vec2)\n",
        "    return dot / (norm1 * norm2 + 1e-9)  # add epsilon for numerical stability"
      ],
      "metadata": {
        "id": "T32NWz3zWkZl"
      },
      "execution_count": 1,
      "outputs": []
    },
    {
      "cell_type": "code",
      "source": [
        "def cosine_similarity_matrix(X, Y=None):\n",
        "    \"\"\"\n",
        "    Compute pairwise cosine similarity between rows of X and Y.\n",
        "    If Y is None, computes similarity among rows of X.\n",
        "\n",
        "    X: (n_samples, dim)\n",
        "    Y: (m_samples, dim)\n",
        "    \"\"\"\n",
        "    if Y is None:\n",
        "        Y = X\n",
        "\n",
        "    X_norm = X / (np.linalg.norm(X, axis=1, keepdims=True) + 1e-9)\n",
        "    Y_norm = Y / (np.linalg.norm(Y, axis=1, keepdims=True) + 1e-9)\n",
        "\n",
        "    return np.dot(X_norm, Y_norm.T)"
      ],
      "metadata": {
        "id": "sjrfUyvRYT74"
      },
      "execution_count": 2,
      "outputs": []
    },
    {
      "cell_type": "code",
      "source": [
        "# Example vectors\n",
        "v1 = np.array([1, 2, 3])\n",
        "v2 = np.array([2, 3, 4])\n",
        "\n",
        "print(\"Cosine similarity (v1, v2):\", cosine_similarity(v1, v2))\n",
        "\n",
        "# Example matrix\n",
        "X = np.array([[1, 0], [0, 1], [1, 1]])\n",
        "sim_matrix = cosine_similarity_matrix(X)\n",
        "\n",
        "print(\"Pairwise cosine similarity matrix:\\n\", np.round(sim_matrix, 3))\n"
      ],
      "metadata": {
        "colab": {
          "base_uri": "https://localhost:8080/"
        },
        "id": "hZKN5p_yYXbe",
        "outputId": "35639ec4-7310-45eb-c0af-6a60364014d5"
      },
      "execution_count": 3,
      "outputs": [
        {
          "output_type": "stream",
          "name": "stdout",
          "text": [
            "Cosine similarity (v1, v2): 0.9925833339216693\n",
            "Pairwise cosine similarity matrix:\n",
            " [[1.    0.    0.707]\n",
            " [0.    1.    0.707]\n",
            " [0.707 0.707 1.   ]]\n"
          ]
        }
      ]
    },
    {
      "cell_type": "code",
      "source": [],
      "metadata": {
        "id": "EIVvpHXrYaAf"
      },
      "execution_count": null,
      "outputs": []
    },
    {
      "cell_type": "code",
      "source": [],
      "metadata": {
        "id": "iHZEeFRbYdov"
      },
      "execution_count": null,
      "outputs": []
    },
    {
      "cell_type": "code",
      "source": [
        "import math\n",
        "\n",
        "def cosine_similarity(vec1, vec2):\n",
        "    \"\"\"Cosine similarity between two vectors (lists)\"\"\"\n",
        "    dot = sum(a * b for a, b in zip(vec1, vec2))\n",
        "    norm1 = math.sqrt(sum(a * a for a in vec1))\n",
        "    norm2 = math.sqrt(sum(b * b for b in vec2))\n",
        "    return dot / (norm1 * norm2 + 1e-9)  # epsilon to avoid division by zero"
      ],
      "metadata": {
        "id": "FplD6NQvYdme"
      },
      "execution_count": 4,
      "outputs": []
    },
    {
      "cell_type": "code",
      "source": [
        "def cosine_similarity_matrix(X, Y=None):\n",
        "    \"\"\"\n",
        "    Compute pairwise cosine similarity between lists of vectors.\n",
        "\n",
        "    X: list of vectors (e.g., [[1,0],[0,1]])\n",
        "    Y: list of vectors (optional). If None, compares X with itself.\n",
        "    \"\"\"\n",
        "    if Y is None:\n",
        "        Y = X\n",
        "\n",
        "    def norm(v):\n",
        "        return math.sqrt(sum(a*a for a in v)) + 1e-9\n",
        "\n",
        "    result = []\n",
        "    for x in X:\n",
        "        row = []\n",
        "        for y in Y:\n",
        "            dot = sum(a*b for a, b in zip(x, y))\n",
        "            sim = dot / (norm(x) * norm(y))\n",
        "            row.append(sim)\n",
        "        result.append(row)\n",
        "    return result"
      ],
      "metadata": {
        "id": "UZRFUZ6yYdkW"
      },
      "execution_count": 5,
      "outputs": []
    },
    {
      "cell_type": "code",
      "source": [
        "v1 = [1, 2, 3]\n",
        "v2 = [2, 3, 4]\n",
        "\n",
        "print(\"Cosine similarity (v1, v2):\", cosine_similarity(v1, v2))\n",
        "\n",
        "X = [[1, 0], [0, 1], [1, 1]]\n",
        "sim_matrix = cosine_similarity_matrix(X)\n",
        "\n",
        "print(\"Pairwise cosine similarity matrix:\")\n",
        "for row in sim_matrix:\n",
        "    print([round(val, 3) for val in row])"
      ],
      "metadata": {
        "colab": {
          "base_uri": "https://localhost:8080/"
        },
        "id": "ySVBEzoKYdic",
        "outputId": "dfa12636-956c-4111-d6dc-c2dea4e02ab1"
      },
      "execution_count": 6,
      "outputs": [
        {
          "output_type": "stream",
          "name": "stdout",
          "text": [
            "Cosine similarity (v1, v2): 0.9925833339216693\n",
            "Pairwise cosine similarity matrix:\n",
            "[1.0, 0.0, 0.707]\n",
            "[0.0, 1.0, 0.707]\n",
            "[0.707, 0.707, 1.0]\n"
          ]
        }
      ]
    },
    {
      "cell_type": "code",
      "source": [],
      "metadata": {
        "id": "aAr6Eb8yYdgB"
      },
      "execution_count": null,
      "outputs": []
    },
    {
      "cell_type": "code",
      "source": [],
      "metadata": {
        "id": "AJ48gwYLaLOe"
      },
      "execution_count": null,
      "outputs": []
    },
    {
      "cell_type": "code",
      "source": [
        "# euclidean distance (python version)"
      ],
      "metadata": {
        "id": "CYJrFmlQaLMF"
      },
      "execution_count": 7,
      "outputs": []
    },
    {
      "cell_type": "code",
      "source": [
        "import math\n",
        "\n",
        "def euclidean_distance(vec1, vec2):\n",
        "    \"\"\"Euclidean distance between two vectors (lists)\"\"\"\n",
        "    return math.sqrt(sum((a - b) ** 2 for a, b in zip(vec1, vec2)))"
      ],
      "metadata": {
        "id": "qgHulxHvaLJ_"
      },
      "execution_count": 9,
      "outputs": []
    },
    {
      "cell_type": "code",
      "source": [
        "def euclidean_distance_matrix(X, Y=None):\n",
        "    \"\"\"\n",
        "    Compute pairwise Euclidean distances between lists of vectors.\n",
        "\n",
        "    X: list of vectors (e.g., [[1,0],[0,1]])\n",
        "    Y: list of vectors (optional). If None, compares X with itself.\n",
        "    \"\"\"\n",
        "    if Y is None:\n",
        "        Y = X\n",
        "\n",
        "    result = []\n",
        "    for x in X:\n",
        "        row = []\n",
        "        for y in Y:\n",
        "            dist = math.sqrt(sum((a - b) ** 2 for a, b in zip(x, y)))\n",
        "            row.append(dist)\n",
        "        result.append(row)\n",
        "    return result"
      ],
      "metadata": {
        "id": "BKt89c0caQQf"
      },
      "execution_count": 10,
      "outputs": []
    },
    {
      "cell_type": "code",
      "source": [
        "v1 = [1, 2, 3]\n",
        "v2 = [2, 3, 4]\n",
        "\n",
        "print(\"Euclidean distance (v1, v2):\", euclidean_distance(v1, v2))\n",
        "\n",
        "X = [[1, 0], [0, 1], [1, 1]]\n",
        "dist_matrix = euclidean_distance_matrix(X)\n",
        "\n",
        "print(\"Pairwise Euclidean distance matrix:\")\n",
        "for row in dist_matrix:\n",
        "    print([round(val, 3) for val in row])"
      ],
      "metadata": {
        "colab": {
          "base_uri": "https://localhost:8080/"
        },
        "id": "uJBxWGIlaTJb",
        "outputId": "501aa86f-3c40-4f0b-ed68-6d6189fb4392"
      },
      "execution_count": 11,
      "outputs": [
        {
          "output_type": "stream",
          "name": "stdout",
          "text": [
            "Euclidean distance (v1, v2): 1.7320508075688772\n",
            "Pairwise Euclidean distance matrix:\n",
            "[0.0, 1.414, 1.0]\n",
            "[1.414, 0.0, 1.0]\n",
            "[1.0, 1.0, 0.0]\n"
          ]
        }
      ]
    },
    {
      "cell_type": "code",
      "source": [],
      "metadata": {
        "id": "BSniROn1aVz0"
      },
      "execution_count": null,
      "outputs": []
    },
    {
      "cell_type": "code",
      "source": [
        "# euclidean distance (numpy version)"
      ],
      "metadata": {
        "id": "ApHX6kNJaWmo"
      },
      "execution_count": null,
      "outputs": []
    },
    {
      "cell_type": "code",
      "source": [
        "import numpy as np\n",
        "\n",
        "def euclidean_distance(vec1, vec2):\n",
        "    \"\"\"Euclidean distance between two vectors using NumPy\"\"\"\n",
        "    v1, v2 = np.array(vec1), np.array(vec2)\n",
        "    return np.sqrt(np.sum((v1 - v2) ** 2))"
      ],
      "metadata": {
        "id": "X55JK_NbaWkq"
      },
      "execution_count": 12,
      "outputs": []
    },
    {
      "cell_type": "code",
      "source": [
        "def euclidean_distance_matrix(X, Y=None):\n",
        "    \"\"\"\n",
        "    Compute pairwise Euclidean distances between sets of vectors using NumPy.\n",
        "\n",
        "    X: np.array of shape (n_samples, n_features)\n",
        "    Y: np.array of shape (m_samples, n_features), optional.\n",
        "       If None, compares X with itself.\n",
        "    \"\"\"\n",
        "    X = np.array(X)\n",
        "    if Y is None:\n",
        "        Y = X\n",
        "    else:\n",
        "        Y = np.array(Y)\n",
        "\n",
        "    # Broadcasting trick: (x-y)^2 = x^2 + y^2 - 2xy\n",
        "    X_sq = np.sum(X ** 2, axis=1).reshape(-1, 1)\n",
        "    Y_sq = np.sum(Y ** 2, axis=1).reshape(1, -1)\n",
        "    dists = np.sqrt(X_sq + Y_sq - 2 * np.dot(X, Y.T))\n",
        "    return dists"
      ],
      "metadata": {
        "id": "3qZu-pG_aWjR"
      },
      "execution_count": 13,
      "outputs": []
    },
    {
      "cell_type": "code",
      "source": [
        "v1 = [1, 2, 3]\n",
        "v2 = [2, 3, 4]\n",
        "\n",
        "print(\"Euclidean distance (v1, v2):\", euclidean_distance(v1, v2))\n",
        "\n",
        "X = np.array([[1, 0], [0, 1], [1, 1]])\n",
        "dist_matrix = euclidean_distance_matrix(X)\n",
        "\n",
        "print(\"Pairwise Euclidean distance matrix:\")\n",
        "print(np.round(dist_matrix, 3))"
      ],
      "metadata": {
        "colab": {
          "base_uri": "https://localhost:8080/"
        },
        "id": "wPIcUXh6aWha",
        "outputId": "b63ad2b8-6860-45a5-edb8-2b443dfc0b22"
      },
      "execution_count": 15,
      "outputs": [
        {
          "output_type": "stream",
          "name": "stdout",
          "text": [
            "Euclidean distance (v1, v2): 1.7320508075688772\n",
            "Pairwise Euclidean distance matrix:\n",
            "[[0.    1.414 1.   ]\n",
            " [1.414 0.    1.   ]\n",
            " [1.    1.    0.   ]]\n"
          ]
        }
      ]
    },
    {
      "cell_type": "code",
      "source": [],
      "metadata": {
        "id": "O65DRfyZaoj9"
      },
      "execution_count": null,
      "outputs": []
    }
  ]
}