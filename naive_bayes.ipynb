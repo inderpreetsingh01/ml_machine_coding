{
  "nbformat": 4,
  "nbformat_minor": 0,
  "metadata": {
    "colab": {
      "provenance": [],
      "authorship_tag": "ABX9TyMNOH8Iw51VCbtNPv6rcWvV",
      "include_colab_link": true
    },
    "kernelspec": {
      "name": "python3",
      "display_name": "Python 3"
    },
    "language_info": {
      "name": "python"
    }
  },
  "cells": [
    {
      "cell_type": "markdown",
      "metadata": {
        "id": "view-in-github",
        "colab_type": "text"
      },
      "source": [
        "<a href=\"https://colab.research.google.com/github/inderpreetsingh01/ml_machine_coding/blob/main/naive_bayes.ipynb\" target=\"_parent\"><img src=\"https://colab.research.google.com/assets/colab-badge.svg\" alt=\"Open In Colab\"/></a>"
      ]
    },
    {
      "cell_type": "code",
      "execution_count": null,
      "metadata": {
        "id": "jA-jxVMSFpvA"
      },
      "outputs": [],
      "source": [
        "import numpy as np\n",
        "\n",
        "class MultinomialNaiveBayes:\n",
        "    def __init__(self, alpha=1.0):  # Laplace smoothing\n",
        "        self.alpha = alpha\n",
        "        self.class_log_prior_ = None\n",
        "        self.feature_log_prob_ = None\n",
        "        self.classes_ = None\n",
        "\n",
        "    def fit(self, X, y):\n",
        "        n_samples, n_features = X.shape\n",
        "        self.classes_ = np.unique(y)\n",
        "        n_classes = len(self.classes_)\n",
        "\n",
        "        class_count = np.zeros(n_classes)\n",
        "        feature_count = np.zeros((n_classes, n_features))\n",
        "\n",
        "        for idx, c in enumerate(self.classes_):\n",
        "            X_c = X[y == c]\n",
        "            class_count[idx] = X_c.shape[0]\n",
        "            feature_count[idx, :] = np.sum(X_c, axis=0)\n",
        "\n",
        "        # Log priors: log(P(y))\n",
        "        self.class_log_prior_ = np.log(class_count / n_samples)\n",
        "\n",
        "        # Log likelihoods: log(P(x_j | y))\n",
        "        smoothed_fc = feature_count + self.alpha\n",
        "        smoothed_totals = np.sum(smoothed_fc, axis=1, keepdims=True)\n",
        "        self.feature_log_prob_ = np.log(smoothed_fc / smoothed_totals)\n",
        "\n",
        "    def predict_log_proba(self, X):\n",
        "        return X @ self.feature_log_prob_.T + self.class_log_prior_\n",
        "\n",
        "    def predict(self, X):\n",
        "        log_probs = self.predict_log_proba(X)\n",
        "        return self.classes_[np.argmax(log_probs, axis=1)]"
      ]
    },
    {
      "cell_type": "code",
      "source": [
        "# 6 samples, 4 features (word counts), 2 classes (0 and 1)\n",
        "X = np.array([\n",
        "    [3, 0, 1, 0],\n",
        "    [2, 0, 1, 1],\n",
        "    [0, 1, 0, 3],\n",
        "    [0, 1, 0, 2],\n",
        "    [1, 0, 2, 0],\n",
        "    [0, 2, 0, 1]\n",
        "])\n",
        "y = np.array([0, 0, 1, 1, 0, 1])\n",
        "\n",
        "model = MultinomialNaiveBayes(alpha=1.0)\n",
        "model.fit(X, y)\n",
        "preds = model.predict(X)\n",
        "\n",
        "print(\"Predictions:\", preds)"
      ],
      "metadata": {
        "id": "ySvVcQgSHZ9j"
      },
      "execution_count": null,
      "outputs": []
    },
    {
      "cell_type": "code",
      "source": [],
      "metadata": {
        "id": "9l3lrUOSHZ7O"
      },
      "execution_count": null,
      "outputs": []
    },
    {
      "cell_type": "code",
      "source": [
        "class GaussianNaiveBayes:\n",
        "    def fit(self, X, y):\n",
        "        self.classes_ = np.unique(y)\n",
        "        n_classes = len(self.classes_)\n",
        "        n_features = X.shape[1]\n",
        "\n",
        "        self.mean_ = np.zeros((n_classes, n_features))\n",
        "        self.var_ = np.zeros((n_classes, n_features))\n",
        "        self.priors_ = np.zeros(n_classes)\n",
        "\n",
        "        for idx, c in enumerate(self.classes_):\n",
        "            X_c = X[y == c]\n",
        "            self.mean_[idx, :] = np.mean(X_c, axis=0)\n",
        "            self.var_[idx, :] = np.var(X_c, axis=0) + 1e-9  # avoid divide by 0\n",
        "            self.priors_[idx] = X_c.shape[0] / X.shape[0]\n",
        "\n",
        "    def _gaussian_log_likelihood(self, class_idx, x):\n",
        "        mean = self.mean_[class_idx]\n",
        "        var = self.var_[class_idx]\n",
        "        return -0.5 * np.sum(np.log(2 * np.pi * var) + ((x - mean) ** 2) / var)\n",
        "\n",
        "    def predict(self, X):\n",
        "        preds = []\n",
        "        for x in X:\n",
        "            posteriors = []\n",
        "            for i in range(len(self.classes_)):\n",
        "                prior = np.log(self.priors_[i])\n",
        "                likelihood = self._gaussian_log_likelihood(i, x)\n",
        "                posterior = prior + likelihood\n",
        "                posteriors.append(posterior)\n",
        "            preds.append(self.classes_[np.argmax(posteriors)])\n",
        "        return np.array(preds)"
      ],
      "metadata": {
        "id": "HYZEdvftHZ44"
      },
      "execution_count": null,
      "outputs": []
    },
    {
      "cell_type": "code",
      "source": [],
      "metadata": {
        "id": "XQaZWgcvHZ1O"
      },
      "execution_count": null,
      "outputs": []
    },
    {
      "cell_type": "code",
      "source": [
        "import numpy as np\n",
        "\n",
        "class GaussianNaiveBayes:\n",
        "    def __init__(self, var_smoothing=1e-9):\n",
        "        self.var_smoothing = var_smoothing\n",
        "        self.classes_ = None\n",
        "        self.class_priors_ = {}\n",
        "        self.class_feature_means_ = {}\n",
        "        self.class_feature_vars_ = {}\n",
        "\n",
        "    def fit(self, X, y):\n",
        "        self.classes_ = np.unique(y)\n",
        "        for cls in self.classes_:\n",
        "            X_c = X[y == cls]\n",
        "            self.class_priors_[cls] = X_c.shape[0] / X.shape[0]\n",
        "            self.class_feature_means_[cls] = np.mean(X_c, axis=0)\n",
        "            self.class_feature_vars_[cls] = np.var(X_c, axis=0) + self.var_smoothing\n",
        "\n",
        "    def _gaussian_likelihood(self, cls, x):\n",
        "        mean = self.class_feature_means_[cls]\n",
        "        var = self.class_feature_vars_[cls]\n",
        "        coeff = 1 / np.sqrt(2 * np.pi * var)\n",
        "        exp_term = np.exp(-0.5 * ((x - mean) ** 2) / var)\n",
        "        return coeff * exp_term\n",
        "\n",
        "    def _log_posterior(self, x):\n",
        "        log_probs = []\n",
        "        for cls in self.classes_:\n",
        "            log_prior = np.log(self.class_priors_[cls])\n",
        "            log_likelihood = np.sum(np.log(self._gaussian_likelihood(cls, x)))\n",
        "            log_probs.append(log_prior + log_likelihood)\n",
        "        return np.array(log_probs)\n",
        "\n",
        "    def predict_proba(self, X):\n",
        "        \"\"\"\n",
        "        Returns probability distribution over classes for each sample.\n",
        "        Uses softmax over log-posteriors for numerical stability.\n",
        "        \"\"\"\n",
        "        proba = []\n",
        "        for x in X:\n",
        "            log_probs = self._log_posterior(x)\n",
        "            log_probs -= np.max(log_probs)  # for stability\n",
        "            probs = np.exp(log_probs)\n",
        "            probs /= np.sum(probs)\n",
        "            proba.append(probs)\n",
        "        return np.array(proba)\n",
        "\n",
        "    def predict(self, X):\n",
        "        return np.argmax(self.predict_proba(X), axis=1)\n",
        "\n",
        "    def score(self, X, y):\n",
        "        return np.mean(self.predict(X) == y)\n",
        "\n",
        "    def confusion_matrix(self, X, y):\n",
        "        \"\"\"\n",
        "        Returns a confusion matrix of shape (n_classes, n_classes)\n",
        "        \"\"\"\n",
        "        y_pred = self.predict(X)\n",
        "        n_classes = len(self.classes_)\n",
        "        cm = np.zeros((n_classes, n_classes), dtype=int)\n",
        "        for true, pred in zip(y, y_pred):\n",
        "            cm[int(true), int(pred)] += 1\n",
        "        return cm"
      ],
      "metadata": {
        "id": "y6S6JpyQHZxU"
      },
      "execution_count": 1,
      "outputs": []
    },
    {
      "cell_type": "code",
      "source": [
        " # Simulate data\n",
        "np.random.seed(0)\n",
        "X = np.random.randn(150, 4)\n",
        "y = np.repeat([0, 1, 2], 50)\n",
        "X[y == 1] += 2\n",
        "X[y == 2] -= 2\n",
        "\n",
        "model = GaussianNaiveBayes()\n",
        "model.fit(X, y)\n",
        "\n",
        "proba = model.predict_proba(X)\n",
        "preds = model.predict(X)\n",
        "acc = model.score(X, y)\n",
        "cm = model.confusion_matrix(X, y)\n",
        "\n",
        "print(\"Accuracy:\", acc)\n",
        "print(\"Confusion Matrix:\\n\", cm)"
      ],
      "metadata": {
        "id": "ENXQpULLOZNf"
      },
      "execution_count": null,
      "outputs": []
    }
  ]
}