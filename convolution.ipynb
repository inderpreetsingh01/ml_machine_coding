{
  "nbformat": 4,
  "nbformat_minor": 0,
  "metadata": {
    "colab": {
      "provenance": [],
      "authorship_tag": "ABX9TyPeHnCTU56j2UHCPKihXjpP",
      "include_colab_link": true
    },
    "kernelspec": {
      "name": "python3",
      "display_name": "Python 3"
    },
    "language_info": {
      "name": "python"
    }
  },
  "cells": [
    {
      "cell_type": "markdown",
      "metadata": {
        "id": "view-in-github",
        "colab_type": "text"
      },
      "source": [
        "<a href=\"https://colab.research.google.com/github/inderpreetsingh01/ml_machine_coding/blob/main/convolution.ipynb\" target=\"_parent\"><img src=\"https://colab.research.google.com/assets/colab-badge.svg\" alt=\"Open In Colab\"/></a>"
      ]
    },
    {
      "cell_type": "code",
      "execution_count": 1,
      "metadata": {
        "id": "JhZBdsuroDwU"
      },
      "outputs": [],
      "source": [
        "import numpy as np\n",
        "\n",
        "def conv2d(X, K, stride=1):\n",
        "    \"\"\"\n",
        "    X: input 2D array (H, W)\n",
        "    K: kernel 2D array (kH, kW)\n",
        "    stride: stride of convolution\n",
        "    Returns: convolved output\n",
        "    \"\"\"\n",
        "    H, W = X.shape\n",
        "    kH, kW = K.shape\n",
        "\n",
        "    out_h = (H - kH) // stride + 1\n",
        "    out_w = (W - kW) // stride + 1\n",
        "\n",
        "    output = np.zeros((out_h, out_w))\n",
        "\n",
        "    for i in range(0, out_h):\n",
        "        for j in range(0, out_w):\n",
        "            patch = X[i*stride:i*stride+kH, j*stride:j*stride+kW]\n",
        "            output[i, j] = np.sum(patch * K)\n",
        "    return output"
      ]
    },
    {
      "cell_type": "code",
      "source": [
        "X = np.array([\n",
        "    [1, 2, 3, 0],\n",
        "    [0, 1, 2, 3],\n",
        "    [3, 0, 1, 2],\n",
        "    [2, 3, 0, 1]\n",
        "])\n",
        "\n",
        "K = np.array([\n",
        "    [1, 0],\n",
        "    [0, -1]\n",
        "])\n",
        "\n",
        "output = conv2d(X, K, stride=1)\n",
        "print(output)"
      ],
      "metadata": {
        "colab": {
          "base_uri": "https://localhost:8080/"
        },
        "id": "CEbVjYqqoVOo",
        "outputId": "a6885cda-9acc-4f13-936a-88626bd973c7"
      },
      "execution_count": 2,
      "outputs": [
        {
          "output_type": "stream",
          "name": "stdout",
          "text": [
            "[[0. 0. 0.]\n",
            " [0. 0. 0.]\n",
            " [0. 0. 0.]]\n"
          ]
        }
      ]
    },
    {
      "cell_type": "code",
      "source": [],
      "metadata": {
        "id": "NjXz3tvPoX6m"
      },
      "execution_count": null,
      "outputs": []
    }
  ]
}