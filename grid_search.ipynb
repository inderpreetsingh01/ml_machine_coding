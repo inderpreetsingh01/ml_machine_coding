{
  "nbformat": 4,
  "nbformat_minor": 0,
  "metadata": {
    "colab": {
      "provenance": [],
      "authorship_tag": "ABX9TyMI7c0pcgm82F9YONyGhp5q",
      "include_colab_link": true
    },
    "kernelspec": {
      "name": "python3",
      "display_name": "Python 3"
    },
    "language_info": {
      "name": "python"
    }
  },
  "cells": [
    {
      "cell_type": "markdown",
      "metadata": {
        "id": "view-in-github",
        "colab_type": "text"
      },
      "source": [
        "<a href=\"https://colab.research.google.com/github/inderpreetsingh01/ml_machine_coding/blob/main/grid_search.ipynb\" target=\"_parent\"><img src=\"https://colab.research.google.com/assets/colab-badge.svg\" alt=\"Open In Colab\"/></a>"
      ]
    },
    {
      "cell_type": "code",
      "execution_count": 3,
      "metadata": {
        "id": "MdeuflgOngqu"
      },
      "outputs": [],
      "source": [
        "import numpy as np\n",
        "from itertools import product\n",
        "\n",
        "def grid_search(model_class, param_grid, X, y, metric, k=5, verbose=True):\n",
        "    \"\"\"\n",
        "    model_class: class of the model (must implement fit and predict)\n",
        "    param_grid: dict, e.g., {'lr':[0.1,0.01], 'n_iter':[100,500]}\n",
        "    X, y: dataset\n",
        "    metric: function(y_true, y_pred)\n",
        "    k: number of folds for CV\n",
        "    \"\"\"\n",
        "    # Create all combinations of parameters\n",
        "    keys = list(param_grid.keys())\n",
        "    values = list(param_grid.values())\n",
        "    all_combinations = list(product(*values))\n",
        "\n",
        "    best_score = -np.inf\n",
        "    best_params = None\n",
        "\n",
        "    for comb in all_combinations:\n",
        "        params = dict(zip(keys, comb))\n",
        "        if verbose:\n",
        "            print(\"Testing params:\", params)\n",
        "\n",
        "        # Run K-Fold CV for this combination\n",
        "        scores = k_fold_cross_validation(model_class, X, y, k=k, metric=metric, **params)\n",
        "        avg_score = np.mean(scores)\n",
        "\n",
        "        if verbose:\n",
        "            print(f\"Average {metric.__name__}: {avg_score:.4f}\\n\")\n",
        "\n",
        "        if avg_score > best_score:\n",
        "            best_score = avg_score\n",
        "            best_params = params\n",
        "\n",
        "    print(\"Best params:\", best_params)\n",
        "    print(f\"Best {metric.__name__}: {best_score:.4f}\")\n",
        "    return best_params, best_score\n"
      ]
    },
    {
      "cell_type": "code",
      "source": [
        "class LogisticRegression:\n",
        "    def __init__(self, lr=0.1, n_iter=1000):\n",
        "        self.lr = lr\n",
        "        self.n_iter = n_iter\n",
        "\n",
        "    def _sigmoid(self, z):\n",
        "        return 1 / (1 + np.exp(-z))\n",
        "\n",
        "    def fit(self, X, y):\n",
        "        n_samples, n_features = X.shape\n",
        "        self.weights = np.zeros(n_features)\n",
        "        self.bias = 0\n",
        "        for _ in range(self.n_iter):\n",
        "            linear_model = np.dot(X, self.weights) + self.bias\n",
        "            y_pred = self._sigmoid(linear_model)\n",
        "            dw = (1 / n_samples) * np.dot(X.T, (y_pred - y))\n",
        "            db = (1 / n_samples) * np.sum(y_pred - y)\n",
        "            self.weights -= self.lr * dw\n",
        "            self.bias -= self.lr * db\n",
        "\n",
        "    def predict(self, X):\n",
        "        linear_model = np.dot(X, self.weights) + self.bias\n",
        "        return (self._sigmoid(linear_model) >= 0.5).astype(int)\n",
        "\n",
        "# Dummy dataset\n",
        "X = np.array([[0],[1],[2],[3],[4],[5],[6],[7],[8],[9]])\n",
        "y = np.array([0,0,0,0,1,1,1,1,1,1])\n",
        "\n",
        "# Define grid\n",
        "param_grid = {\n",
        "    'lr': [0.01, 0.05, 0.1],\n",
        "    'n_iter': [500, 1000]\n",
        "}\n",
        "\n",
        "# Run grid search\n",
        "best_params, best_score = grid_search(LogisticRegression, param_grid, X, y, metric=accuracy_score, k=5)\n"
      ],
      "metadata": {
        "colab": {
          "base_uri": "https://localhost:8080/",
          "height": 180
        },
        "id": "Ay5BMSnanqeL",
        "outputId": "a5d3852e-169e-4d88-d6f5-15bc32cf3db8"
      },
      "execution_count": 4,
      "outputs": [
        {
          "output_type": "error",
          "ename": "NameError",
          "evalue": "name 'accuracy_score' is not defined",
          "traceback": [
            "\u001b[0;31m---------------------------------------------------------------------------\u001b[0m",
            "\u001b[0;31mNameError\u001b[0m                                 Traceback (most recent call last)",
            "\u001b[0;32m/tmp/ipython-input-100779767.py\u001b[0m in \u001b[0;36m<cell line: 0>\u001b[0;34m()\u001b[0m\n\u001b[1;32m     34\u001b[0m \u001b[0;34m\u001b[0m\u001b[0m\n\u001b[1;32m     35\u001b[0m \u001b[0;31m# Run grid search\u001b[0m\u001b[0;34m\u001b[0m\u001b[0;34m\u001b[0m\u001b[0m\n\u001b[0;32m---> 36\u001b[0;31m \u001b[0mbest_params\u001b[0m\u001b[0;34m,\u001b[0m \u001b[0mbest_score\u001b[0m \u001b[0;34m=\u001b[0m \u001b[0mgrid_search\u001b[0m\u001b[0;34m(\u001b[0m\u001b[0mLogisticRegression\u001b[0m\u001b[0;34m,\u001b[0m \u001b[0mparam_grid\u001b[0m\u001b[0;34m,\u001b[0m \u001b[0mX\u001b[0m\u001b[0;34m,\u001b[0m \u001b[0my\u001b[0m\u001b[0;34m,\u001b[0m \u001b[0mmetric\u001b[0m\u001b[0;34m=\u001b[0m\u001b[0maccuracy_score\u001b[0m\u001b[0;34m,\u001b[0m \u001b[0mk\u001b[0m\u001b[0;34m=\u001b[0m\u001b[0;36m5\u001b[0m\u001b[0;34m)\u001b[0m\u001b[0;34m\u001b[0m\u001b[0;34m\u001b[0m\u001b[0m\n\u001b[0m",
            "\u001b[0;31mNameError\u001b[0m: name 'accuracy_score' is not defined"
          ]
        }
      ]
    },
    {
      "cell_type": "code",
      "source": [],
      "metadata": {
        "id": "htPn3e-qns7Q"
      },
      "execution_count": null,
      "outputs": []
    }
  ]
}