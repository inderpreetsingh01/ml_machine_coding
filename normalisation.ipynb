{
  "nbformat": 4,
  "nbformat_minor": 0,
  "metadata": {
    "colab": {
      "provenance": [],
      "authorship_tag": "ABX9TyN8KcyRKBUALaktAjOmaQgE",
      "include_colab_link": true
    },
    "kernelspec": {
      "name": "python3",
      "display_name": "Python 3"
    },
    "language_info": {
      "name": "python"
    }
  },
  "cells": [
    {
      "cell_type": "markdown",
      "metadata": {
        "id": "view-in-github",
        "colab_type": "text"
      },
      "source": [
        "<a href=\"https://colab.research.google.com/github/inderpreetsingh01/ml_machine_coding/blob/main/normalisation.ipynb\" target=\"_parent\"><img src=\"https://colab.research.google.com/assets/colab-badge.svg\" alt=\"Open In Colab\"/></a>"
      ]
    },
    {
      "cell_type": "code",
      "execution_count": 1,
      "metadata": {
        "id": "8CeZ6FLiou3Q"
      },
      "outputs": [],
      "source": [
        "import numpy as np\n",
        "\n",
        "def min_max_normalize(X):\n",
        "    X_min = X.min(axis=0)\n",
        "    X_max = X.max(axis=0)\n",
        "    return (X - X_min) / (X_max - X_min + 1e-10)  # small epsilon to avoid division by zero\n"
      ]
    },
    {
      "cell_type": "code",
      "source": [
        "X = np.array([[1, 2], [3, 4], [5, 6]])\n",
        "print(min_max_normalize(X))\n"
      ],
      "metadata": {
        "colab": {
          "base_uri": "https://localhost:8080/"
        },
        "id": "MBm7EBiZoyy-",
        "outputId": "3e1f6025-f8c6-44d9-b12c-a46605eb64e7"
      },
      "execution_count": 2,
      "outputs": [
        {
          "output_type": "stream",
          "name": "stdout",
          "text": [
            "[[0.  0. ]\n",
            " [0.5 0.5]\n",
            " [1.  1. ]]\n"
          ]
        }
      ]
    },
    {
      "cell_type": "code",
      "source": [],
      "metadata": {
        "id": "mRu1HjxGo0aW"
      },
      "execution_count": null,
      "outputs": []
    },
    {
      "cell_type": "code",
      "source": [],
      "metadata": {
        "id": "1ru2JQT-o2ZB"
      },
      "execution_count": null,
      "outputs": []
    },
    {
      "cell_type": "code",
      "source": [
        "def z_score_normalize(X):\n",
        "    mean = X.mean(axis=0)\n",
        "    std = X.std(axis=0)\n",
        "    return (X - mean) / (std + 1e-10)\n"
      ],
      "metadata": {
        "id": "subA2xcHo2W4"
      },
      "execution_count": 3,
      "outputs": []
    },
    {
      "cell_type": "code",
      "source": [
        "X = np.array([[1, 2], [3, 4], [5, 6]])\n",
        "print(z_score_normalize(X))\n"
      ],
      "metadata": {
        "colab": {
          "base_uri": "https://localhost:8080/"
        },
        "id": "EkHtB3PZo2_B",
        "outputId": "ccf70d1c-375c-4e14-bd71-1fdfc27d5299"
      },
      "execution_count": 4,
      "outputs": [
        {
          "output_type": "stream",
          "name": "stdout",
          "text": [
            "[[-1.22474487 -1.22474487]\n",
            " [ 0.          0.        ]\n",
            " [ 1.22474487  1.22474487]]\n"
          ]
        }
      ]
    },
    {
      "cell_type": "code",
      "source": [],
      "metadata": {
        "id": "vsAjnoEBo4X-"
      },
      "execution_count": null,
      "outputs": []
    },
    {
      "cell_type": "code",
      "source": [],
      "metadata": {
        "id": "Ff_0xciQo6Yu"
      },
      "execution_count": null,
      "outputs": []
    },
    {
      "cell_type": "code",
      "source": [
        "def batch_normalize(X, gamma=None, beta=None, eps=1e-5):\n",
        "    mean = X.mean(axis=0)\n",
        "    var = X.var(axis=0)\n",
        "    X_hat = (X - mean) / np.sqrt(var + eps)\n",
        "\n",
        "    if gamma is not None:\n",
        "        X_hat = X_hat * gamma\n",
        "    if beta is not None:\n",
        "        X_hat = X_hat + beta\n",
        "    return X_hat\n"
      ],
      "metadata": {
        "id": "91WtlAdNo6XU"
      },
      "execution_count": 5,
      "outputs": []
    },
    {
      "cell_type": "code",
      "source": [
        "X = np.random.rand(4,3)\n",
        "gamma = np.ones(3)\n",
        "beta = np.zeros(3)\n",
        "print(batch_normalize(X, gamma, beta))\n"
      ],
      "metadata": {
        "colab": {
          "base_uri": "https://localhost:8080/"
        },
        "id": "qYUJ9jAHo6U7",
        "outputId": "395f30e3-1917-4d7f-a150-7e451f553b42"
      },
      "execution_count": 6,
      "outputs": [
        {
          "output_type": "stream",
          "name": "stdout",
          "text": [
            "[[ 1.46063185 -1.67066863 -0.32522493]\n",
            " [-0.729836    0.1296261   1.34420721]\n",
            " [-1.09549488  0.72520346  0.37527644]\n",
            " [ 0.36469903  0.81583908 -1.39425872]]\n"
          ]
        }
      ]
    },
    {
      "cell_type": "code",
      "source": [],
      "metadata": {
        "id": "7LXwE_Zro8Xk"
      },
      "execution_count": null,
      "outputs": []
    },
    {
      "cell_type": "code",
      "source": [],
      "metadata": {
        "id": "TTG25MpPo9Cf"
      },
      "execution_count": null,
      "outputs": []
    },
    {
      "cell_type": "code",
      "source": [
        "def layer_normalize(X, eps=1e-5):\n",
        "    mean = X.mean(axis=1, keepdims=True)\n",
        "    var = X.var(axis=1, keepdims=True)\n",
        "    return (X - mean) / np.sqrt(var + eps)\n"
      ],
      "metadata": {
        "id": "S6lsz0OFo9AQ"
      },
      "execution_count": 7,
      "outputs": []
    },
    {
      "cell_type": "code",
      "source": [],
      "metadata": {
        "id": "-rpTxF-No8-Q"
      },
      "execution_count": null,
      "outputs": []
    },
    {
      "cell_type": "code",
      "source": [],
      "metadata": {
        "id": "Y_n4u_dbo872"
      },
      "execution_count": null,
      "outputs": []
    }
  ]
}